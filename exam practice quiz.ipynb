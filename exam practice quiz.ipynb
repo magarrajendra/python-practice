{
 "cells": [
  {
   "cell_type": "markdown",
   "id": "2e005127",
   "metadata": {},
   "source": [
    " What is the type of the result of the expression: 4 + 2.5 + 1 ?"
   ]
  },
  {
   "cell_type": "code",
   "execution_count": 1,
   "id": "6551d309",
   "metadata": {},
   "outputs": [],
   "source": [
    "ans : float"
   ]
  },
  {
   "cell_type": "markdown",
   "id": "a86cbaca",
   "metadata": {},
   "source": [
    "2. What is one major difference between lists and tuples ?"
   ]
  },
  {
   "cell_type": "code",
   "execution_count": 2,
   "id": "7f0eb9a8",
   "metadata": {},
   "outputs": [
    {
     "ename": "SyntaxError",
     "evalue": "invalid syntax (2375784098.py, line 1)",
     "output_type": "error",
     "traceback": [
      "\u001b[1;36m  File \u001b[1;32m\"C:\\Users\\USER\\AppData\\Local\\Temp\\ipykernel_19136\\2375784098.py\"\u001b[1;36m, line \u001b[1;32m1\u001b[0m\n\u001b[1;33m    ans : list are mutable whereas tuples are imutable\u001b[0m\n\u001b[1;37m               ^\u001b[0m\n\u001b[1;31mSyntaxError\u001b[0m\u001b[1;31m:\u001b[0m invalid syntax\n"
     ]
    }
   ],
   "source": [
    "ans : list are mutable whereas tuples are imutable\n",
    "    "
   ]
  },
  {
   "cell_type": "markdown",
   "id": "f755729e",
   "metadata": {},
   "source": [
    "3. Write a Python statement to create a tuple with a single element, the string pandas , and\n",
    "assign it to a variable called t ."
   ]
  },
  {
   "cell_type": "code",
   "execution_count": 3,
   "id": "c4929d98",
   "metadata": {},
   "outputs": [],
   "source": [
    "t = (\"pandas\",)\n",
    "\n"
   ]
  },
  {
   "cell_type": "markdown",
   "id": "077be1eb",
   "metadata": {},
   "source": [
    "4. \"Python is a statically typed language.\" State if the given statement is True or False ."
   ]
  },
  {
   "cell_type": "markdown",
   "id": "d90a2413",
   "metadata": {},
   "source": [
    "The statement \"Python is a statically typed language\" is false.\n",
    "\n",
    "Python is a dynamically typed language, which means that the type of a variable is determined at runtime based on the value it is assigned. In other words, you do not need to specify the type of a variable when you declare it in Python, and you can assign values of different types to the same variable. This is in contrast to statically typed languages like C or Java, where the type of a variable must be declared when the variable is defined and cannot be changed later."
   ]
  },
  {
   "cell_type": "markdown",
   "id": "ee938e69",
   "metadata": {},
   "source": [
    "B. Simple questions to test the understanding of Python datastructures: [10\n",
    "points]\n",
    "1. Use slicing operation to reverse the given string: \"ma'am ? desserts\""
   ]
  },
  {
   "cell_type": "code",
   "execution_count": 4,
   "id": "1ac61849",
   "metadata": {},
   "outputs": [
    {
     "name": "stdout",
     "output_type": "stream",
     "text": [
      "stressed ? ma'am\n"
     ]
    }
   ],
   "source": [
    "s = \"ma'am ? desserts\"\n",
    "reversed_s = s[::-1]\n",
    "print(reversed_s)\n"
   ]
  },
  {
   "cell_type": "markdown",
   "id": "ab34618a",
   "metadata": {},
   "source": [
    "2. Reassign 'Namaste' in the given nested list my_list to say 'Feri Bhetaula'\n",
    "instead:\n",
    "my_list = [3,4,[1,7,'Namaste']]"
   ]
  },
  {
   "cell_type": "code",
   "execution_count": 5,
   "id": "9036eef2",
   "metadata": {},
   "outputs": [
    {
     "name": "stdout",
     "output_type": "stream",
     "text": [
      "[3, 4, [1, 7, 'Feri Bhetaula']]\n"
     ]
    }
   ],
   "source": [
    "my_list = [3, 4, [1, 7, 'Namaste']]\n",
    "my_list[2][2] = 'Feri Bhetaula'\n",
    "print(my_list)\n"
   ]
  },
  {
   "cell_type": "markdown",
   "id": "7379d90f",
   "metadata": {},
   "source": [
    "3. Using keys and indexing, print just the word 'DataStructures' from the following\n",
    "dictionaries:\n",
    "dict_one = {'key1':{'key2':'DataStructures'}}\n",
    "dict_two = {'key1':[{'key2':['looks nested',['DataStructures']]}]}\n",
    "(Bonus points)"
   ]
  },
  {
   "cell_type": "code",
   "execution_count": 6,
   "id": "1bb4e136",
   "metadata": {},
   "outputs": [
    {
     "name": "stdout",
     "output_type": "stream",
     "text": [
      "DataStructures\n"
     ]
    }
   ],
   "source": [
    "dict_one = {'key1': {'key2': 'DataStructures'}}\n",
    "print(dict_one['key1']['key2'])\n"
   ]
  },
  {
   "cell_type": "code",
   "execution_count": 7,
   "id": "a45de0d2",
   "metadata": {},
   "outputs": [
    {
     "name": "stdout",
     "output_type": "stream",
     "text": [
      "DataStructures\n"
     ]
    }
   ],
   "source": [
    "dict_two = {'key1': [{'key2': ['looks nested', ['DataStructures']]}]}\n",
    "print(dict_two['key1'][0]['key2'][1][0])\n"
   ]
  },
  {
   "cell_type": "markdown",
   "id": "81dab5da",
   "metadata": {},
   "source": [
    "4. Given two nested lists: list_one = [1,2,[3,4]] and list_two = [1,2,\n",
    "{'key':3}] , what should the value of x and y be in order to make the statement\n",
    "below True .\n",
    "list_one[x][y] == list_two[2]['key']"
   ]
  },
  {
   "cell_type": "code",
   "execution_count": 8,
   "id": "313c7b24",
   "metadata": {},
   "outputs": [
    {
     "name": "stdout",
     "output_type": "stream",
     "text": [
      "True\n"
     ]
    }
   ],
   "source": [
    "list_one = [1, 2, [3, 4]]\n",
    "list_two = [1, 2, {'key': 3}]\n",
    "\n",
    "x = 2\n",
    "y = 0\n",
    "\n",
    "if list_one[x][y] == list_two[2]['key']:\n",
    "    print(\"True\")\n",
    "else:\n",
    "    print(\"False\")\n"
   ]
  },
  {
   "cell_type": "markdown",
   "id": "cc857f4b",
   "metadata": {},
   "source": [
    "C. Write a Python WHILE loop to print 'square of odd numbers' between 5 and 15. [4\n",
    "points]"
   ]
  },
  {
   "cell_type": "code",
   "execution_count": 9,
   "id": "9f14939a",
   "metadata": {},
   "outputs": [
    {
     "name": "stdout",
     "output_type": "stream",
     "text": [
      "25\n",
      "49\n",
      "81\n",
      "121\n",
      "169\n",
      "225\n"
     ]
    }
   ],
   "source": [
    "num = 5\n",
    "while num <= 15:\n",
    "    if num % 2 != 0:\n",
    "        print(num ** 2)\n",
    "    num += 1\n"
   ]
  },
  {
   "cell_type": "markdown",
   "id": "dbc5a14e",
   "metadata": {},
   "source": [
    "D. Write a function to take in a dictionary as given below and return only the last name\n",
    "and the company name as a tuple, from the given input dictionary \n",
    "input_dict = {\"Ford\": [\"New Hampshire\", \"Bruce Mills\"], \"Tata\":\n",
    "[\"Guragaun\",\"Rajan Seth\"],\n",
    "\"Suzuki\": [\"Kyoto\",\"Hiroshi Nakamoto\"], \"BMW\": [\"Munich\",\"Josh\n",
    "Wagner\"],\n",
    "\"Toyota\": [\"Tokyo\", \"Narishu Takoma\"]}\n",
    "def get_last_name(in_args):"
   ]
  },
  {
   "cell_type": "code",
   "execution_count": 11,
   "id": "08366706",
   "metadata": {},
   "outputs": [],
   "source": [
    "def get_last_name(in_args):\n",
    "    result = []\n",
    "    for key, value in in_args.items():\n",
    "        last_name = value[1].split()[1]\n",
    "        company_name = key\n",
    "        result.append((last_name, company_name))\n",
    "    return result\n"
   ]
  },
  {
   "cell_type": "code",
   "execution_count": 12,
   "id": "45761245",
   "metadata": {},
   "outputs": [
    {
     "name": "stdout",
     "output_type": "stream",
     "text": [
      "[('Mills', 'Ford'), ('Seth', 'Tata'), ('Nakamoto', 'Suzuki'), ('Wagner', 'BMW'), ('Takoma', 'Toyota')]\n"
     ]
    }
   ],
   "source": [
    "input_dict = {\"Ford\": [\"New Hampshire\", \"Bruce Mills\"], \"Tata\": [\"Guragaun\", \"Rajan Seth\"],\n",
    "              \"Suzuki\": [\"Kyoto\", \"Hiroshi Nakamoto\"], \"BMW\": [\"Munich\", \"Josh Wagner\"],\n",
    "              \"Toyota\": [\"Tokyo\", \"Narishu Takoma\"]}\n",
    "output_tuple = get_last_name(input_dict)\n",
    "print(output_tuple)\n"
   ]
  },
  {
   "cell_type": "code",
   "execution_count": null,
   "id": "5851aa45",
   "metadata": {},
   "outputs": [],
   "source": []
  }
 ],
 "metadata": {
  "kernelspec": {
   "display_name": "Python 3 (ipykernel)",
   "language": "python",
   "name": "python3"
  },
  "language_info": {
   "codemirror_mode": {
    "name": "ipython",
    "version": 3
   },
   "file_extension": ".py",
   "mimetype": "text/x-python",
   "name": "python",
   "nbconvert_exporter": "python",
   "pygments_lexer": "ipython3",
   "version": "3.9.13"
  }
 },
 "nbformat": 4,
 "nbformat_minor": 5
}
